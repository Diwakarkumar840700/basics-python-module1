{
  "nbformat": 4,
  "nbformat_minor": 0,
  "metadata": {
    "colab": {
      "provenance": [],
      "authorship_tag": "ABX9TyNiiyaXs4RydzRJp3p6lW5h",
      "include_colab_link": true
    },
    "kernelspec": {
      "name": "python3",
      "display_name": "Python 3"
    },
    "language_info": {
      "name": "python"
    }
  },
  "cells": [
    {
      "cell_type": "markdown",
      "metadata": {
        "id": "view-in-github",
        "colab_type": "text"
      },
      "source": [
        "<a href=\"https://colab.research.google.com/github/Diwakarkumar840700/basics-python-module1/blob/main/python.ipynb\" target=\"_parent\"><img src=\"https://colab.research.google.com/assets/colab-badge.svg\" alt=\"Open In Colab\"/></a>"
      ]
    },
    {
      "cell_type": "code",
      "execution_count": 1,
      "metadata": {
        "id": "rMghhylMwqJz"
      },
      "outputs": [],
      "source": [
        "#### python ###"
      ]
    },
    {
      "cell_type": "code",
      "source": [
        "print(\"hello\")"
      ],
      "metadata": {
        "colab": {
          "base_uri": "https://localhost:8080/"
        },
        "id": "t0ME_IRjwyti",
        "outputId": "dd2f2f4c-6b8b-4afa-c232-c8c5654809e7"
      },
      "execution_count": 2,
      "outputs": [
        {
          "output_type": "stream",
          "name": "stdout",
          "text": [
            "hello\n"
          ]
        }
      ]
    },
    {
      "cell_type": "code",
      "source": [
        "print(\"hello...)"
      ],
      "metadata": {
        "colab": {
          "base_uri": "https://localhost:8080/",
          "height": 106
        },
        "id": "nYJ1yjyWw_NL",
        "outputId": "7c5c4631-10e9-42f8-a0c5-4bec68e297ee"
      },
      "execution_count": 3,
      "outputs": [
        {
          "output_type": "error",
          "ename": "SyntaxError",
          "evalue": "unterminated string literal (detected at line 1) (<ipython-input-3-fbf7da7d8bea>, line 1)",
          "traceback": [
            "\u001b[0;36m  File \u001b[0;32m\"<ipython-input-3-fbf7da7d8bea>\"\u001b[0;36m, line \u001b[0;32m1\u001b[0m\n\u001b[0;31m    print(\"hello...)\u001b[0m\n\u001b[0m          ^\u001b[0m\n\u001b[0;31mSyntaxError\u001b[0m\u001b[0;31m:\u001b[0m unterminated string literal (detected at line 1)\n"
          ]
        }
      ]
    },
    {
      "cell_type": "code",
      "source": [
        "#### exercise 1 ###\n",
        "print(\"it  is first programming in python \")\n",
        "print(\"it is decleared like this :\")\n",
        "print(\"what to print ?\")"
      ],
      "metadata": {
        "colab": {
          "base_uri": "https://localhost:8080/"
        },
        "id": "tM6ojndOxDoP",
        "outputId": "ec79c978-95a5-45a3-fb30-1ca1cb22a458"
      },
      "execution_count": 4,
      "outputs": [
        {
          "output_type": "stream",
          "name": "stdout",
          "text": [
            "it  is first programming in python \n",
            "it is decleared like this :\n",
            "what to print ?\n"
          ]
        }
      ]
    },
    {
      "cell_type": "code",
      "source": [
        "print(\"print('what to print')\")"
      ],
      "metadata": {
        "colab": {
          "base_uri": "https://localhost:8080/"
        },
        "id": "YoH9HRez0DPD",
        "outputId": "ee7efc7a-2540-4752-f047-b7550a41a760"
      },
      "execution_count": 9,
      "outputs": [
        {
          "output_type": "stream",
          "name": "stdout",
          "text": [
            "print('what to print')\n"
          ]
        }
      ]
    },
    {
      "cell_type": "code",
      "source": [
        "print('('what to print ')')"
      ],
      "metadata": {
        "colab": {
          "base_uri": "https://localhost:8080/",
          "height": 106
        },
        "id": "HRWxmFWR1GQV",
        "outputId": "93a1e184-81b8-4279-a9a3-6d0dc7a5a771"
      },
      "execution_count": 7,
      "outputs": [
        {
          "output_type": "error",
          "ename": "SyntaxError",
          "evalue": "invalid syntax. Perhaps you forgot a comma? (<ipython-input-7-1cc6df89bbe7>, line 1)",
          "traceback": [
            "\u001b[0;36m  File \u001b[0;32m\"<ipython-input-7-1cc6df89bbe7>\"\u001b[0;36m, line \u001b[0;32m1\u001b[0m\n\u001b[0;31m    print('('what to print ')')\u001b[0m\n\u001b[0m          ^\u001b[0m\n\u001b[0;31mSyntaxError\u001b[0m\u001b[0;31m:\u001b[0m invalid syntax. Perhaps you forgot a comma?\n"
          ]
        }
      ]
    },
    {
      "cell_type": "code",
      "source": [
        "# here what to print is like code and also ......\")\" it is also treat as like string cause  here first is opening brc and second para is closing brac\n"
      ],
      "metadata": {
        "id": "fHaCnEir1iv1"
      },
      "execution_count": 8,
      "outputs": []
    },
    {
      "cell_type": "code",
      "source": [
        "print(\"hello\\n hello\")"
      ],
      "metadata": {
        "colab": {
          "base_uri": "https://localhost:8080/"
        },
        "id": "7r-XPXgY2IEC",
        "outputId": "8bbc21c1-538b-4494-eb6b-905edc762f64"
      },
      "execution_count": 11,
      "outputs": [
        {
          "output_type": "stream",
          "name": "stdout",
          "text": [
            "hello\n",
            " hello\n"
          ]
        }
      ]
    },
    {
      "cell_type": "code",
      "source": [
        "print(\"hello\\nhello\\nhello\")"
      ],
      "metadata": {
        "colab": {
          "base_uri": "https://localhost:8080/"
        },
        "id": "87d6tpjnDsd0",
        "outputId": "423074fd-dee5-4de6-83ab-b14fe07291fc"
      },
      "execution_count": 12,
      "outputs": [
        {
          "output_type": "stream",
          "name": "stdout",
          "text": [
            "hello\n",
            "hello\n",
            "hello\n"
          ]
        }
      ]
    },
    {
      "cell_type": "code",
      "source": [
        "# manipulation of  two string #"
      ],
      "metadata": {
        "id": "Mh0iBcP3EAKK"
      },
      "execution_count": 13,
      "outputs": []
    },
    {
      "cell_type": "code",
      "source": [
        "print(\"hello\"+\"bitu\")"
      ],
      "metadata": {
        "colab": {
          "base_uri": "https://localhost:8080/"
        },
        "id": "33GPTqmdEZpK",
        "outputId": "210e64ef-554c-4030-ea6f-de7f36f421e3"
      },
      "execution_count": 14,
      "outputs": [
        {
          "output_type": "stream",
          "name": "stdout",
          "text": [
            "hellobitu\n"
          ]
        }
      ]
    },
    {
      "cell_type": "code",
      "source": [
        "print(\"hello \"+\"bitu\")"
      ],
      "metadata": {
        "colab": {
          "base_uri": "https://localhost:8080/"
        },
        "id": "kl1yPUW7HQxn",
        "outputId": "2f45ec2a-7808-4175-81a3-d109ffb3b2b5"
      },
      "execution_count": 15,
      "outputs": [
        {
          "output_type": "stream",
          "name": "stdout",
          "text": [
            "hello bitu\n"
          ]
        }
      ]
    },
    {
      "cell_type": "code",
      "source": [
        "print(\"hello\" \" \"+\"bitu\")"
      ],
      "metadata": {
        "colab": {
          "base_uri": "https://localhost:8080/"
        },
        "id": "WNo2Dw_zHX0k",
        "outputId": "d3c71749-5747-4091-c92b-2972cfce4521"
      },
      "execution_count": 16,
      "outputs": [
        {
          "output_type": "stream",
          "name": "stdout",
          "text": [
            "hello bitu\n"
          ]
        }
      ]
    },
    {
      "cell_type": "code",
      "source": [
        " print(\"hello\" \"+\" \"bitu\")"
      ],
      "metadata": {
        "colab": {
          "base_uri": "https://localhost:8080/"
        },
        "id": "SXFZ75lsHj6f",
        "outputId": "89a4925c-4e37-43a0-b54b-cbd20f916ebc"
      },
      "execution_count": 19,
      "outputs": [
        {
          "output_type": "stream",
          "name": "stdout",
          "text": [
            "hello+bitu\n"
          ]
        }
      ]
    },
    {
      "cell_type": "code",
      "source": [
        " print(\"hello\" + \"bitu\")"
      ],
      "metadata": {
        "colab": {
          "base_uri": "https://localhost:8080/"
        },
        "id": "j9Op9UZ3H3WE",
        "outputId": "b353eeea-0a67-463f-e119-8c6d7ce9ecb9"
      },
      "execution_count": 18,
      "outputs": [
        {
          "output_type": "stream",
          "name": "stdout",
          "text": [
            "hellobitu\n"
          ]
        }
      ]
    },
    {
      "cell_type": "code",
      "source": [
        "# exercise 2 #\n"
      ],
      "metadata": {
        "id": "kEhTUZilIOYK"
      },
      "execution_count": 20,
      "outputs": []
    },
    {
      "cell_type": "code",
      "source": [
        "print(\"string manipulation exercise\")"
      ],
      "metadata": {
        "colab": {
          "base_uri": "https://localhost:8080/"
        },
        "id": "zyjRFDJWI1zo",
        "outputId": "4c4c2427-efaa-4123-be0a-9143e81bf44d"
      },
      "execution_count": 21,
      "outputs": [
        {
          "output_type": "stream",
          "name": "stdout",
          "text": [
            "string manipulation exercise\n"
          ]
        }
      ]
    },
    {
      "cell_type": "code",
      "source": [
        "print(\"string concatinate done with \"+\" sign\")"
      ],
      "metadata": {
        "colab": {
          "base_uri": "https://localhost:8080/"
        },
        "id": "xPl4ACFqJKar",
        "outputId": "d3b1d286-5292-4ab8-cc33-b055011c4c35"
      },
      "execution_count": 22,
      "outputs": [
        {
          "output_type": "stream",
          "name": "stdout",
          "text": [
            "string concatinate done with  sign\n"
          ]
        }
      ]
    },
    {
      "cell_type": "code",
      "source": [
        "print(\"string concatinate done with '+' sign\")"
      ],
      "metadata": {
        "colab": {
          "base_uri": "https://localhost:8080/"
        },
        "id": "fzrYbcdEJb0m",
        "outputId": "569a8230-1669-4b0c-d49e-a49ce835b0b0"
      },
      "execution_count": 23,
      "outputs": [
        {
          "output_type": "stream",
          "name": "stdout",
          "text": [
            "string concatinate done with '+' sign\n"
          ]
        }
      ]
    },
    {
      "cell_type": "code",
      "source": [
        "####input function ###"
      ],
      "metadata": {
        "id": "ouiJt5QfJr05"
      },
      "execution_count": 24,
      "outputs": []
    },
    {
      "cell_type": "code",
      "source": [
        "input(\"what is your name ?\")"
      ],
      "metadata": {
        "colab": {
          "base_uri": "https://localhost:8080/",
          "height": 53
        },
        "id": "7pFWtcSlSqHA",
        "outputId": "b2bbf18b-6dff-47c8-f7a4-70c811a9a8a3"
      },
      "execution_count": 25,
      "outputs": [
        {
          "name": "stdout",
          "output_type": "stream",
          "text": [
            "what is your name ?diwakar\n"
          ]
        },
        {
          "output_type": "execute_result",
          "data": {
            "text/plain": [
              "'diwakar'"
            ],
            "application/vnd.google.colaboratory.intrinsic+json": {
              "type": "string"
            }
          },
          "metadata": {},
          "execution_count": 25
        }
      ]
    },
    {
      "cell_type": "code",
      "source": [
        "print(\"hello\"+ \" \"+ input(\"what is your name ?\"))"
      ],
      "metadata": {
        "colab": {
          "base_uri": "https://localhost:8080/"
        },
        "id": "gJGh76PASvy4",
        "outputId": "169b8173-106e-49f1-ffbb-57f40db9c258"
      },
      "execution_count": 26,
      "outputs": [
        {
          "output_type": "stream",
          "name": "stdout",
          "text": [
            "what is your name ?diwakar\n",
            "hello diwakar\n"
          ]
        }
      ]
    },
    {
      "cell_type": "markdown",
      "source": [
        "exercise 3"
      ],
      "metadata": {
        "id": "o4De8Ma6dsef"
      }
    },
    {
      "cell_type": "code",
      "source": [
        "dk\n",
        "print(\"hye\"+ \" \"+input(\"what is your name ?\"))"
      ],
      "metadata": {
        "colab": {
          "base_uri": "https://localhost:8080/"
        },
        "id": "km0g2aujcYS7",
        "outputId": "13bdc64a-5348-4d2d-f775-7d9aa7b3bf2c"
      },
      "execution_count": 29,
      "outputs": [
        {
          "output_type": "stream",
          "name": "stdout",
          "text": [
            "what is your name ?dk\n",
            "hye dk\n"
          ]
        }
      ]
    },
    {
      "cell_type": "code",
      "source": [
        "print(\"hy\"+ \" \"+ input(\"what is your name? , how are u ?\"))"
      ],
      "metadata": {
        "colab": {
          "base_uri": "https://localhost:8080/"
        },
        "id": "AfkgRTykdYVr",
        "outputId": "d973f50c-c3ef-4520-e8d4-749337e474d8"
      },
      "execution_count": 30,
      "outputs": [
        {
          "output_type": "stream",
          "name": "stdout",
          "text": [
            "what is your name? , how are u ?diwakar\n",
            "hy diwakar\n"
          ]
        }
      ]
    },
    {
      "cell_type": "code",
      "source": [
        "print(\"hey\" + \" \"+ input(\"what is your name ?\")+ \",\" + \"how are u \")"
      ],
      "metadata": {
        "colab": {
          "base_uri": "https://localhost:8080/"
        },
        "id": "SL5otG62ehB7",
        "outputId": "40096bf0-feb6-40dc-85cb-35463ab3c245"
      },
      "execution_count": 1,
      "outputs": [
        {
          "output_type": "stream",
          "name": "stdout",
          "text": [
            "what is your name ?diwakar\n",
            "hey diwakar,how are u \n"
          ]
        }
      ]
    },
    {
      "cell_type": "markdown",
      "source": [
        "variable\n"
      ],
      "metadata": {
        "id": "2OD85WYVjuti"
      }
    },
    {
      "cell_type": "code",
      "source": [
        "name=\"diwakar\"\n",
        "print(name)"
      ],
      "metadata": {
        "colab": {
          "base_uri": "https://localhost:8080/"
        },
        "id": "XV_swTEQu1pX",
        "outputId": "1429aa0a-f6c6-463f-9d79-b05111890911"
      },
      "execution_count": 2,
      "outputs": [
        {
          "output_type": "stream",
          "name": "stdout",
          "text": [
            "diwakar\n"
          ]
        }
      ]
    },
    {
      "cell_type": "code",
      "source": [
        "len(name)"
      ],
      "metadata": {
        "colab": {
          "base_uri": "https://localhost:8080/"
        },
        "id": "2Yr52nFejm1N",
        "outputId": "02bcd4d8-1e12-49dc-972b-ef23d519977f"
      },
      "execution_count": 3,
      "outputs": [
        {
          "output_type": "execute_result",
          "data": {
            "text/plain": [
              "7"
            ]
          },
          "metadata": {},
          "execution_count": 3
        }
      ]
    },
    {
      "cell_type": "code",
      "source": [],
      "metadata": {
        "id": "xp6mLZQDj8kr"
      },
      "execution_count": null,
      "outputs": []
    }
  ]
}